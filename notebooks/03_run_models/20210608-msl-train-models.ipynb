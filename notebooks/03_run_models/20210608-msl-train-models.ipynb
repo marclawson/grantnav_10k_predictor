{
 "cells": [
  {
   "cell_type": "markdown",
   "metadata": {},
   "source": [
    "# Run Models"
   ]
  },
  {
   "cell_type": "markdown",
   "metadata": {},
   "source": [
    "Neural networks"
   ]
  },
  {
   "cell_type": "markdown",
   "metadata": {},
   "source": [
    "## 0.0 Libraries"
   ]
  },
  {
   "cell_type": "code",
   "execution_count": 1,
   "metadata": {
    "execution": {
     "iopub.execute_input": "2021-06-08T16:27:45.082156Z",
     "iopub.status.busy": "2021-06-08T16:27:45.081902Z",
     "iopub.status.idle": "2021-06-08T16:27:46.474232Z",
     "shell.execute_reply": "2021-06-08T16:27:46.473580Z",
     "shell.execute_reply.started": "2021-06-08T16:27:45.082103Z"
    }
   },
   "outputs": [
    {
     "name": "stdout",
     "output_type": "stream",
     "text": [
      "The autoreload extension is already loaded. To reload it, use:\n",
      "  %reload_ext autoreload\n"
     ]
    }
   ],
   "source": [
    "%load_ext autoreload\n",
    "%autoreload 2\n",
    "\n",
    "#system\n",
    "import os\n",
    "import sys\n",
    "from os.path import join as pj\n",
    "module_path = os.path.abspath(pj('..','..'))\n",
    "if module_path not in sys.path:\n",
    "    sys.path.append(module_path)\n",
    "    \n",
    "# utils\n",
    "from src.d00_utils import print_helper_functions as phf\n",
    "\n",
    "# ipython\n",
    "import warnings\n",
    "warnings.simplefilter('ignore')\n",
    "\n",
    "# executing code\n",
    "import click\n",
    "import logging\n",
    "\n",
    "# type annotations\n",
    "from typing import List, Set, Dict, Tuple, Optional\n",
    "from collections.abc import Iterable\n",
    "\n",
    "# configuring\n",
    "from pathlib import Path\n",
    "from dotenv import find_dotenv, load_dotenv\n",
    "import configparser\n",
    "\n",
    "# data\n",
    "import numpy as np\n",
    "import re\n",
    "\n",
    "# stats\n",
    "import statsmodels.api as sm\n",
    "from sklearn.linear_model import LinearRegression\n",
    "from sklearn.model_selection import train_test_split, GridSearchCV\n",
    "\n",
    "# viz\n",
    "from matplotlib import pyplot as plt\n",
    "import matplotlib.dates as mdates\n",
    "import seaborn as sns\n",
    "sns.set(font_scale=1.5)\n",
    "plt.style.use('bmh')\n",
    "%config InlineBackend.figure_format = 'retina'\n",
    "%matplotlib inline\n",
    "\n",
    "# file handling\n",
    "import tempfile\n",
    "import joblib\n",
    "import botocore\n",
    "import boto3\n",
    "from os.path import join as pj\n",
    "import pickle as pkl\n",
    "sys.path.append('../..')\n",
    "\n",
    "# data extraction/transformation\n",
    "from src.d01_data.build_features import FeatureExtractorText, FeatureExtractorOHE, FeatureExtractorNumber, CustomImputer\n",
    "from sklearn.pipeline import Pipeline"
   ]
  },
  {
   "cell_type": "markdown",
   "metadata": {},
   "source": [
    "## 1.0 Load feature union and data"
   ]
  },
  {
   "cell_type": "code",
   "execution_count": 2,
   "metadata": {
    "execution": {
     "iopub.execute_input": "2021-06-08T16:27:46.475836Z",
     "iopub.status.busy": "2021-06-08T16:27:46.475608Z",
     "iopub.status.idle": "2021-06-08T16:27:46.526027Z",
     "shell.execute_reply": "2021-06-08T16:27:46.525394Z",
     "shell.execute_reply.started": "2021-06-08T16:27:46.475818Z"
    }
   },
   "outputs": [
    {
     "name": "stdout",
     "output_type": "stream",
     "text": [
      "/Users/marclawson/repositories/grantnav_10k_predictor\n"
     ]
    }
   ],
   "source": [
    "# not used in this stub but often useful for finding various files\n",
    "project_dir = Path().resolve().parents[1]\n",
    "print(project_dir)\n",
    "\n",
    "# find .env automagically by walking up directories until it's found, then\n",
    "# load up the .env entries as environment variables\n",
    "_ = load_dotenv(find_dotenv())\n",
    "\n",
    "raw_dir = pj(project_dir, 'data', os.environ.get('RAW_DIR'))\n",
    "interim_dir = pj(project_dir, 'data', os.environ.get('INTERIM_DIR'))\n",
    "processed_dir = pj(project_dir, 'data', os.environ.get('PROCESSED_DIR'))"
   ]
  },
  {
   "cell_type": "code",
   "execution_count": 3,
   "metadata": {
    "execution": {
     "iopub.execute_input": "2021-06-08T16:27:46.528137Z",
     "iopub.status.busy": "2021-06-08T16:27:46.527807Z",
     "iopub.status.idle": "2021-06-08T16:27:46.575144Z",
     "shell.execute_reply": "2021-06-08T16:27:46.574483Z",
     "shell.execute_reply.started": "2021-06-08T16:27:46.528100Z"
    }
   },
   "outputs": [],
   "source": [
    "# load features\n",
    "filename = 'feature_union.jlib'\n",
    "_file = open(pj(processed_dir, filename), 'rb')\n",
    "feature_union = joblib.load(_file)"
   ]
  },
  {
   "cell_type": "code",
   "execution_count": 4,
   "metadata": {
    "execution": {
     "iopub.execute_input": "2021-06-08T16:27:46.577430Z",
     "iopub.status.busy": "2021-06-08T16:27:46.577175Z",
     "iopub.status.idle": "2021-06-08T16:27:48.161393Z",
     "shell.execute_reply": "2021-06-08T16:27:48.160773Z",
     "shell.execute_reply.started": "2021-06-08T16:27:46.577407Z"
    }
   },
   "outputs": [
    {
     "data": {
      "text/html": [
       "<div>\n",
       "<style scoped>\n",
       "    .dataframe tbody tr th:only-of-type {\n",
       "        vertical-align: middle;\n",
       "    }\n",
       "\n",
       "    .dataframe tbody tr th {\n",
       "        vertical-align: top;\n",
       "    }\n",
       "\n",
       "    .dataframe thead th {\n",
       "        text-align: right;\n",
       "    }\n",
       "</style>\n",
       "<table border=\"1\" class=\"dataframe\">\n",
       "  <thead>\n",
       "    <tr style=\"text-align: right;\">\n",
       "      <th></th>\n",
       "      <th>identifier</th>\n",
       "      <th>currency</th>\n",
       "      <th>title</th>\n",
       "      <th>description</th>\n",
       "      <th>amount_awarded</th>\n",
       "      <th>award_date</th>\n",
       "      <th>recipient_org_identifier</th>\n",
       "      <th>recipient_org_name</th>\n",
       "      <th>funding_org_identifier</th>\n",
       "      <th>funding_org_name</th>\n",
       "      <th>planned_dates_duration_months</th>\n",
       "      <th>year</th>\n",
       "      <th>days_since_award</th>\n",
       "      <th>funding_org_identifier_revised</th>\n",
       "      <th>funding_org_name_revised</th>\n",
       "    </tr>\n",
       "  </thead>\n",
       "  <tbody>\n",
       "    <tr>\n",
       "      <th>0</th>\n",
       "      <td>360G-cabinetoffice-GA-060628</td>\n",
       "      <td>GBP</td>\n",
       "      <td>Bus Service Operator Grants (outside London) 2...</td>\n",
       "      <td>Placeholder</td>\n",
       "      <td>569.0</td>\n",
       "      <td>2016-04-01</td>\n",
       "      <td>360G-cabinetoffice-DfT_BS82</td>\n",
       "      <td>The Village Bus Committee of Amberley &amp; Slindon</td>\n",
       "      <td>GB-GOR-D9</td>\n",
       "      <td>Department for Transport</td>\n",
       "      <td>12.0</td>\n",
       "      <td>2016</td>\n",
       "      <td>1894</td>\n",
       "      <td>GB-GOR-D9</td>\n",
       "      <td>Department for Transport</td>\n",
       "    </tr>\n",
       "    <tr>\n",
       "      <th>1</th>\n",
       "      <td>360G-cabinetoffice-GA-060629</td>\n",
       "      <td>GBP</td>\n",
       "      <td>Bus Service Operator Grants (outside London) 2...</td>\n",
       "      <td>Placeholder</td>\n",
       "      <td>1089.0</td>\n",
       "      <td>2016-04-01</td>\n",
       "      <td>GB-CHC-1111971</td>\n",
       "      <td>Totnes and Rural Community Bus Association</td>\n",
       "      <td>GB-GOR-D9</td>\n",
       "      <td>Department for Transport</td>\n",
       "      <td>12.0</td>\n",
       "      <td>2016</td>\n",
       "      <td>1894</td>\n",
       "      <td>GB-GOR-D9</td>\n",
       "      <td>Department for Transport</td>\n",
       "    </tr>\n",
       "    <tr>\n",
       "      <th>8</th>\n",
       "      <td>360G-cabinetoffice-GA-060013</td>\n",
       "      <td>GBP</td>\n",
       "      <td>Bus Service Operator Grants (outside London) 2...</td>\n",
       "      <td>Placeholder</td>\n",
       "      <td>2409.0</td>\n",
       "      <td>2016-04-01</td>\n",
       "      <td>360G-cabinetoffice-GB105582583</td>\n",
       "      <td>BELLE COACHES</td>\n",
       "      <td>GB-GOR-D9</td>\n",
       "      <td>Department for Transport</td>\n",
       "      <td>12.0</td>\n",
       "      <td>2016</td>\n",
       "      <td>1894</td>\n",
       "      <td>GB-GOR-D9</td>\n",
       "      <td>Department for Transport</td>\n",
       "    </tr>\n",
       "    <tr>\n",
       "      <th>9</th>\n",
       "      <td>360G-cabinetoffice-GA-059649</td>\n",
       "      <td>GBP</td>\n",
       "      <td>English Community Transport 2016/17</td>\n",
       "      <td>Placeholder</td>\n",
       "      <td>1658.0</td>\n",
       "      <td>2016-04-01</td>\n",
       "      <td>360G-cabinetoffice-GB676859169</td>\n",
       "      <td>BUNGAY AREA COMMUNITY TRANSPORT</td>\n",
       "      <td>GB-GOR-D9</td>\n",
       "      <td>Department for Transport</td>\n",
       "      <td>12.0</td>\n",
       "      <td>2016</td>\n",
       "      <td>1894</td>\n",
       "      <td>GB-GOR-D9</td>\n",
       "      <td>Department for Transport</td>\n",
       "    </tr>\n",
       "    <tr>\n",
       "      <th>10</th>\n",
       "      <td>360G-cabinetoffice-GA-059562</td>\n",
       "      <td>GBP</td>\n",
       "      <td>English Community Transport 2016/17</td>\n",
       "      <td>Placeholder</td>\n",
       "      <td>624.0</td>\n",
       "      <td>2016-04-01</td>\n",
       "      <td>360G-cabinetoffice-GB600027706</td>\n",
       "      <td>TRANSPORT 17 LTD</td>\n",
       "      <td>GB-GOR-D9</td>\n",
       "      <td>Department for Transport</td>\n",
       "      <td>12.0</td>\n",
       "      <td>2016</td>\n",
       "      <td>1894</td>\n",
       "      <td>GB-GOR-D9</td>\n",
       "      <td>Department for Transport</td>\n",
       "    </tr>\n",
       "  </tbody>\n",
       "</table>\n",
       "</div>"
      ],
      "text/plain": [
       "                      identifier currency  \\\n",
       "0   360G-cabinetoffice-GA-060628      GBP   \n",
       "1   360G-cabinetoffice-GA-060629      GBP   \n",
       "8   360G-cabinetoffice-GA-060013      GBP   \n",
       "9   360G-cabinetoffice-GA-059649      GBP   \n",
       "10  360G-cabinetoffice-GA-059562      GBP   \n",
       "\n",
       "                                                title  description  \\\n",
       "0   Bus Service Operator Grants (outside London) 2...  Placeholder   \n",
       "1   Bus Service Operator Grants (outside London) 2...  Placeholder   \n",
       "8   Bus Service Operator Grants (outside London) 2...  Placeholder   \n",
       "9                 English Community Transport 2016/17  Placeholder   \n",
       "10                English Community Transport 2016/17  Placeholder   \n",
       "\n",
       "    amount_awarded  award_date        recipient_org_identifier  \\\n",
       "0            569.0  2016-04-01     360G-cabinetoffice-DfT_BS82   \n",
       "1           1089.0  2016-04-01                  GB-CHC-1111971   \n",
       "8           2409.0  2016-04-01  360G-cabinetoffice-GB105582583   \n",
       "9           1658.0  2016-04-01  360G-cabinetoffice-GB676859169   \n",
       "10           624.0  2016-04-01  360G-cabinetoffice-GB600027706   \n",
       "\n",
       "                                 recipient_org_name funding_org_identifier  \\\n",
       "0   The Village Bus Committee of Amberley & Slindon              GB-GOR-D9   \n",
       "1        Totnes and Rural Community Bus Association              GB-GOR-D9   \n",
       "8                                     BELLE COACHES              GB-GOR-D9   \n",
       "9                   BUNGAY AREA COMMUNITY TRANSPORT              GB-GOR-D9   \n",
       "10                                 TRANSPORT 17 LTD              GB-GOR-D9   \n",
       "\n",
       "            funding_org_name  planned_dates_duration_months  year  \\\n",
       "0   Department for Transport                           12.0  2016   \n",
       "1   Department for Transport                           12.0  2016   \n",
       "8   Department for Transport                           12.0  2016   \n",
       "9   Department for Transport                           12.0  2016   \n",
       "10  Department for Transport                           12.0  2016   \n",
       "\n",
       "    days_since_award funding_org_identifier_revised  funding_org_name_revised  \n",
       "0               1894                      GB-GOR-D9  Department for Transport  \n",
       "1               1894                      GB-GOR-D9  Department for Transport  \n",
       "8               1894                      GB-GOR-D9  Department for Transport  \n",
       "9               1894                      GB-GOR-D9  Department for Transport  \n",
       "10              1894                      GB-GOR-D9  Department for Transport  "
      ]
     },
     "execution_count": 4,
     "metadata": {},
     "output_type": "execute_result"
    }
   ],
   "source": [
    "data = pd.read_csv(pj(interim_dir,'grantnav_data_post2015.csv'), index_col=0)\n",
    "data = data[data['amount_awarded']<=10000]\n",
    "data.head()"
   ]
  },
  {
   "cell_type": "markdown",
   "metadata": {},
   "source": [
    "## 2.0 Simple Linear Regression"
   ]
  },
  {
   "cell_type": "code",
   "execution_count": 5,
   "metadata": {
    "execution": {
     "iopub.execute_input": "2021-06-08T16:27:48.162643Z",
     "iopub.status.busy": "2021-06-08T16:27:48.162424Z",
     "iopub.status.idle": "2021-06-08T16:27:48.209351Z",
     "shell.execute_reply": "2021-06-08T16:27:48.208655Z",
     "shell.execute_reply.started": "2021-06-08T16:27:48.162623Z"
    }
   },
   "outputs": [],
   "source": [
    "job_params = {\n",
    "        'cv': 5,                                                       \n",
    "        'n_jobs': -1,                                         \n",
    "        'verbose': 10,\n",
    "        'scoring': 'r2'\n",
    "}\n",
    "\n",
    "# set up fixed arguments for gridsearch\n",
    "fixed_params = {\n",
    "    'featureunion__pipeline-1__tfidfvectorizer__lowercase': [True],\n",
    "    'featureunion__pipeline-1__tfidfvectorizer__strip_accents': 'unicode',\n",
    "    'featureunion__pipeline-1__tfidfvectorizer__stop_words': ['English'],\n",
    "    'featureunion__pipeline-1__tfidfvectorizer__token_pattern': '\\w+',\n",
    "    'featureunion__pipeline-2__tfidfvectorizer__lowercase': [True],\n",
    "    'featureunion__pipeline-2__tfidfvectorizer__strip_accents': 'unicode',\n",
    "    'featureunion__pipeline-2__tfidfvectorizer__stop_words': ['English'],\n",
    "    'featureunion__pipeline-2__tfidfvectorizer__token_pattern': '\\w+',\n",
    "}\n",
    "    \n",
    "param_grid = {\n",
    "    'featureunion__pipeline-1__tfidfvectorizer__max_features': [5000],\n",
    "    'featureunion__pipeline-1__tfidfvectorizer__ngram_range': [(1,1)],\n",
    "    'featureunion__pipeline-2__tfidfvectorizer__max_features': [5000],\n",
    "    'featureunion__pipeline-2__tfidfvectorizer__ngram_range': [(1,3)],\n",
    "    'featureunion__pipeline-1__standardscaler__with_mean': [False],\n",
    "    'featureunion__pipeline-2__standardscaler__with_mean': [False],\n",
    "    'featureunion__pipeline-3__standardscaler__with_mean': [True],\n",
    "    'featureunion__pipeline-4__standardscaler__with_mean': [True],\n",
    "    'featureunion__pipeline-5__standardscaler__with_mean': [False],\n",
    "    'clf__alpha':  [1e-15, 1e-10, 1e-8, 1e-4, 1e-3,1e-2, 1, 5, 10, 20],\n",
    "    'clf__max_iter': [10000],\n",
    "    'clf__penalty': ['l1', 'l2']\n",
    "}"
   ]
  },
  {
   "cell_type": "code",
   "execution_count": 6,
   "metadata": {
    "execution": {
     "iopub.execute_input": "2021-06-08T16:27:48.210597Z",
     "iopub.status.busy": "2021-06-08T16:27:48.210258Z",
     "iopub.status.idle": "2021-06-08T16:27:48.256275Z",
     "shell.execute_reply": "2021-06-08T16:27:48.255343Z",
     "shell.execute_reply.started": "2021-06-08T16:27:48.210567Z"
    }
   },
   "outputs": [],
   "source": [
    "from sklearn.linear_model import Ridge, Lasso, SGDRegressor"
   ]
  },
  {
   "cell_type": "code",
   "execution_count": 7,
   "metadata": {
    "execution": {
     "iopub.execute_input": "2021-06-08T16:27:48.257937Z",
     "iopub.status.busy": "2021-06-08T16:27:48.257549Z",
     "iopub.status.idle": "2021-06-08T16:27:48.378626Z",
     "shell.execute_reply": "2021-06-08T16:27:48.377725Z",
     "shell.execute_reply.started": "2021-06-08T16:27:48.257903Z"
    }
   },
   "outputs": [],
   "source": [
    "def train_test_setup(data, target, test_size=0.2):\n",
    "    data_copy = data.copy()\n",
    "    y = data_copy.pop(target)\n",
    "    X = data_copy\n",
    "    X_train, X_test, y_train, y_test = train_test_split(X, y,\n",
    "                                                    test_size=test_size,\n",
    "                                                    random_state=2\n",
    "                                                       )\n",
    "    \n",
    "    return X_train, X_test, y_train, y_test\n",
    "\n",
    "X_train, X_test, y_train, y_test = train_test_setup(data, 'amount_awarded')"
   ]
  },
  {
   "cell_type": "code",
   "execution_count": 8,
   "metadata": {
    "execution": {
     "iopub.execute_input": "2021-06-08T16:27:48.382863Z",
     "iopub.status.busy": "2021-06-08T16:27:48.382555Z",
     "iopub.status.idle": "2021-06-08T16:27:48.429595Z",
     "shell.execute_reply": "2021-06-08T16:27:48.428623Z",
     "shell.execute_reply.started": "2021-06-08T16:27:48.382835Z"
    }
   },
   "outputs": [],
   "source": [
    "# create model pipeline\n",
    "pipe = Pipeline([\n",
    "        ('featureunion', feature_union),\n",
    "        ('clf', Ridge())\n",
    "])"
   ]
  },
  {
   "cell_type": "code",
   "execution_count": 9,
   "metadata": {
    "execution": {
     "iopub.execute_input": "2021-06-08T16:27:48.432785Z",
     "iopub.status.busy": "2021-06-08T16:27:48.432413Z",
     "iopub.status.idle": "2021-06-08T16:27:48.491428Z",
     "shell.execute_reply": "2021-06-08T16:27:48.490748Z",
     "shell.execute_reply.started": "2021-06-08T16:27:48.432749Z"
    }
   },
   "outputs": [
    {
     "data": {
      "text/plain": [
       "Series([], Name: funding_org_name_revised, dtype: int64)"
      ]
     },
     "execution_count": 9,
     "metadata": {},
     "output_type": "execute_result"
    }
   ],
   "source": [
    "funding_diffs = list(set(X_train.funding_org_name_revised.unique()).symmetric_difference(set(X_test.funding_org_name_revised.unique())))\n",
    "X_train[X_train['funding_org_name_revised'].isin(funding_diffs)]['funding_org_name_revised'].value_counts()"
   ]
  },
  {
   "cell_type": "code",
   "execution_count": null,
   "metadata": {
    "execution": {
     "iopub.execute_input": "2021-06-08T16:27:48.492982Z",
     "iopub.status.busy": "2021-06-08T16:27:48.492615Z"
    }
   },
   "outputs": [
    {
     "data": {
      "text/plain": [
       "Pipeline(steps=[('featureunion',\n",
       "                 FeatureUnion(transformer_list=[('pipeline-1',\n",
       "                                                 Pipeline(steps=[('featureextractortext',\n",
       "                                                                  FeatureExtractorText(columns='description')),\n",
       "                                                                 ('tfidfvectorizer',\n",
       "                                                                  TfidfVectorizer(lowercase=[True],\n",
       "                                                                                  stop_words=['English'],\n",
       "                                                                                  strip_accents='unicode',\n",
       "                                                                                  token_pattern='\\\\w+')),\n",
       "                                                                 ('standardscaler',\n",
       "                                                                  StandardScaler())])),\n",
       "                                                ('pipeline-2',\n",
       "                                                 Pipeline(step...\n",
       "                                                 Pipeline(steps=[('featureextractornumber',\n",
       "                                                                  FeatureExtractorNumber(columns='days_since_award')),\n",
       "                                                                 ('standardscaler',\n",
       "                                                                  StandardScaler())])),\n",
       "                                                ('pipeline-5',\n",
       "                                                 Pipeline(steps=[('featureextractorohe',\n",
       "                                                                  FeatureExtractorOHE(columns='funding_org_identifier_revised')),\n",
       "                                                                 ('onehotencoder',\n",
       "                                                                  OneHotEncoder(drop='first')),\n",
       "                                                                 ('standardscaler',\n",
       "                                                                  StandardScaler())]))])),\n",
       "                ('clf', Ridge())])"
      ]
     },
     "execution_count": 10,
     "metadata": {},
     "output_type": "execute_result"
    },
    {
     "name": "stdout",
     "output_type": "stream",
     "text": [
      "Fitting 5 folds for each of 20 candidates, totalling 100 fits\n"
     ]
    }
   ],
   "source": [
    "# set model parameters and fit\n",
    "pipe.set_params(**fixed_params)\n",
    "searchcv = GridSearchCV(pipe, param_grid, **job_params)\n",
    "try:\n",
    "    if __name__ == '__main__':\n",
    "        searchcv.fit(X_train, y_train)\n",
    "except Exception as e:\n",
    "    raise\n",
    "    print(e)"
   ]
  },
  {
   "cell_type": "code",
   "execution_count": null,
   "metadata": {},
   "outputs": [],
   "source": [
    "best_model = searchcv.best_estimator_.named_steps['clf']"
   ]
  },
  {
   "cell_type": "code",
   "execution_count": null,
   "metadata": {},
   "outputs": [],
   "source": [
    "predicted = searchcv.predict(X_test)\n",
    "observed = y_test.values"
   ]
  },
  {
   "cell_type": "code",
   "execution_count": null,
   "metadata": {},
   "outputs": [],
   "source": [
    "preds_v_obs = pd.DataFrame([pd.Series(predicted), pd.Series(observed)]).T\n",
    "preds_v_obs.columns=['predicted', 'observed']\n",
    "preds_v_obs['residuals'] = preds_v_obs['observed'] - preds_v_obs['predicted']\n",
    "baseline = preds_v_obs['observed'].mean()\n",
    "preds_v_obs['baseline_residuals'] = preds_v_obs['observed'] - baseline\n",
    "print(f\"Baseline: {baseline}\")"
   ]
  },
  {
   "cell_type": "markdown",
   "metadata": {},
   "source": [
    "Get baseline stats"
   ]
  },
  {
   "cell_type": "code",
   "execution_count": null,
   "metadata": {},
   "outputs": [],
   "source": [
    "print('Baseline:')\n",
    "print(f\"MSE: {preds_v_obs.residuals.map(lambda x: x**2).mean():,.0f}\")\n",
    "print(f\"RMSE: {preds_v_obs.residuals.map(lambda x: x**2).mean()**0.5:,.0f}\")\n",
    "print('='*15)\n",
    "print()\n",
    "print('Our model:')\n",
    "print(f\"MSE: {preds_v_obs.baseline_residuals.map(lambda x: x**2).mean():,.0f}\")\n",
    "print(f\"RMSE: {preds_v_obs.baseline_residuals.map(lambda x: x**2).mean()**0.5:,.0f}\")\n",
    "print('='*15)"
   ]
  },
  {
   "cell_type": "code",
   "execution_count": null,
   "metadata": {},
   "outputs": [],
   "source": [
    "from sklearn.metrics import mean_absolute_error\n",
    "\n",
    "print('Baseline:')\n",
    "print(f\"MAE: {mean_absolute_error(preds_v_obs['observed'], pd.Series([baseline for o in preds_v_obs['observed']])):,.0f}\")\n",
    "print('='*15)\n",
    "print()\n",
    "print('Our model:')\n",
    "print(f\"MAE: {mean_absolute_error(preds_v_obs['observed'], preds_v_obs['predicted']):,.0f}\")\n",
    "print('='*15)"
   ]
  },
  {
   "cell_type": "code",
   "execution_count": null,
   "metadata": {},
   "outputs": [],
   "source": [
    "preds_v_obs"
   ]
  },
  {
   "cell_type": "code",
   "execution_count": null,
   "metadata": {},
   "outputs": [],
   "source": [
    "test_df = X_test[X_test.index.isin(y_test.index)]\n",
    "test_df['predicted_grant'] = predicted\n",
    "test_df['observed_grant'] = observed"
   ]
  },
  {
   "cell_type": "code",
   "execution_count": null,
   "metadata": {},
   "outputs": [],
   "source": [
    "fig, ax = plt.subplots(figsize=(20, 8))\n",
    "preds_v_obs.plot(x='predicted', y='observed', kind='scatter', color='b', ax=ax)\n",
    "ax.plot([preds_v_obs['observed'].min(), preds_v_obs['observed'].max()], [\n",
    "        preds_v_obs['observed'].min(), preds_v_obs['observed'].max()], lw=2, c='r')\n",
    "plt.show();"
   ]
  },
  {
   "cell_type": "code",
   "execution_count": null,
   "metadata": {},
   "outputs": [],
   "source": [
    "searchcv.best_score_"
   ]
  },
  {
   "cell_type": "code",
   "execution_count": null,
   "metadata": {},
   "outputs": [],
   "source": [
    "sorted(searchcv.cv_results_.keys())"
   ]
  },
  {
   "cell_type": "code",
   "execution_count": null,
   "metadata": {},
   "outputs": [],
   "source": [
    "pd.DataFrame(searchcv.cv_results_)"
   ]
  },
  {
   "cell_type": "code",
   "execution_count": null,
   "metadata": {},
   "outputs": [],
   "source": [
    "searchcv.cv_results_"
   ]
  },
  {
   "cell_type": "code",
   "execution_count": null,
   "metadata": {},
   "outputs": [],
   "source": [
    "from statsmodels.graphics.gofplots import qqplot"
   ]
  },
  {
   "cell_type": "code",
   "execution_count": null,
   "metadata": {},
   "outputs": [],
   "source": [
    "qqplot(preds_v_obs.residuals, line='s')\n",
    "plt.show();"
   ]
  },
  {
   "cell_type": "markdown",
   "metadata": {},
   "source": [
    "## 3.0 Neural Network"
   ]
  },
  {
   "cell_type": "code",
   "execution_count": 9,
   "metadata": {
    "execution": {
     "iopub.execute_input": "2021-06-08T15:54:55.401692Z",
     "iopub.status.busy": "2021-06-08T15:54:55.401370Z",
     "iopub.status.idle": "2021-06-08T15:54:55.498518Z",
     "shell.execute_reply": "2021-06-08T15:54:55.497789Z",
     "shell.execute_reply.started": "2021-06-08T15:54:55.401665Z"
    }
   },
   "outputs": [],
   "source": [
    "import tensorflow as tf\n",
    "from tensorflow import keras\n",
    "from keras.models import Sequential\n",
    "from keras.layers import Dense\n",
    "from keras.wrappers.scikit_learn import KerasRegressor"
   ]
  },
  {
   "cell_type": "code",
   "execution_count": 50,
   "metadata": {
    "execution": {
     "iopub.execute_input": "2021-06-08T16:24:00.864309Z",
     "iopub.status.busy": "2021-06-08T16:24:00.863978Z",
     "iopub.status.idle": "2021-06-08T16:24:00.943550Z",
     "shell.execute_reply": "2021-06-08T16:24:00.942818Z",
     "shell.execute_reply.started": "2021-06-08T16:24:00.864276Z"
    }
   },
   "outputs": [],
   "source": [
    "def baseline_model():\n",
    "    # create model\n",
    "    model = Sequential()\n",
    "    model.add(Dense(13, input_dim=13, kernel_initializer='normal', activation='relu'))\n",
    "    model.add(Dense(1, kernel_initializer='normal'))\n",
    "    # Compile model\n",
    "    model.compile(loss='Huber', optimizer='adam')\n",
    "    return model"
   ]
  },
  {
   "cell_type": "code",
   "execution_count": 47,
   "metadata": {
    "execution": {
     "iopub.execute_input": "2021-06-08T16:23:02.802508Z",
     "iopub.status.busy": "2021-06-08T16:23:02.802165Z",
     "iopub.status.idle": "2021-06-08T16:23:02.877446Z",
     "shell.execute_reply": "2021-06-08T16:23:02.876856Z",
     "shell.execute_reply.started": "2021-06-08T16:23:02.802479Z"
    }
   },
   "outputs": [],
   "source": [
    "# create model pipeline\n",
    "pipe = Pipeline([\n",
    "        ('featureunion', feature_union),\n",
    "        ('clf', KerasRegressor(build_fn=baseline_model))\n",
    "])"
   ]
  },
  {
   "cell_type": "code",
   "execution_count": 48,
   "metadata": {
    "execution": {
     "iopub.execute_input": "2021-06-08T16:23:03.207710Z",
     "iopub.status.busy": "2021-06-08T16:23:03.207406Z",
     "iopub.status.idle": "2021-06-08T16:23:03.286464Z",
     "shell.execute_reply": "2021-06-08T16:23:03.285641Z",
     "shell.execute_reply.started": "2021-06-08T16:23:03.207681Z"
    }
   },
   "outputs": [],
   "source": [
    "job_params = {\n",
    "        'cv': 5,                                                       \n",
    "        'n_jobs': -1,                                         \n",
    "        'verbose': 10,\n",
    "}\n",
    "\n",
    "# set up fixed arguments for gridsearch\n",
    "fixed_params = {\n",
    "    'featureunion__pipeline-1__tfidfvectorizer__lowercase': [True],\n",
    "    'featureunion__pipeline-1__tfidfvectorizer__strip_accents': 'unicode',\n",
    "    'featureunion__pipeline-1__tfidfvectorizer__stop_words': ['English'],\n",
    "    'featureunion__pipeline-1__tfidfvectorizer__token_pattern': '\\w+',\n",
    "    'featureunion__pipeline-2__tfidfvectorizer__lowercase': [True],\n",
    "    'featureunion__pipeline-2__tfidfvectorizer__strip_accents': 'unicode',\n",
    "    'featureunion__pipeline-2__tfidfvectorizer__stop_words': ['English'],\n",
    "    'featureunion__pipeline-2__tfidfvectorizer__token_pattern': '\\w+',\n",
    "}\n",
    "    \n",
    "param_grid = {\n",
    "    'featureunion__pipeline-1__tfidfvectorizer__max_features': [5000],\n",
    "    'featureunion__pipeline-1__tfidfvectorizer__ngram_range': [(1,1)],\n",
    "    'featureunion__pipeline-2__tfidfvectorizer__max_features': [5000],\n",
    "    'featureunion__pipeline-2__tfidfvectorizer__ngram_range': [(1,3)],\n",
    "    'featureunion__pipeline-1__standardscaler__with_mean': [False],\n",
    "    'featureunion__pipeline-2__standardscaler__with_mean': [False],\n",
    "    'featureunion__pipeline-3__standardscaler__with_mean': [True],\n",
    "    'featureunion__pipeline-4__standardscaler__with_mean': [True],\n",
    "    'featureunion__pipeline-5__standardscaler__with_mean': [False],\n",
    "    'clf__epochs': [10000],\n",
    "    'clf__batch_size': [5]\n",
    "}"
   ]
  },
  {
   "cell_type": "code",
   "execution_count": 49,
   "metadata": {
    "execution": {
     "iopub.execute_input": "2021-06-08T16:23:03.643213Z",
     "iopub.status.busy": "2021-06-08T16:23:03.642931Z",
     "iopub.status.idle": "2021-06-08T16:23:23.189462Z",
     "shell.execute_reply": "2021-06-08T16:23:23.187903Z",
     "shell.execute_reply.started": "2021-06-08T16:23:03.643193Z"
    }
   },
   "outputs": [
    {
     "data": {
      "text/plain": [
       "Pipeline(steps=[('featureunion',\n",
       "                 FeatureUnion(transformer_list=[('pipeline-1',\n",
       "                                                 Pipeline(steps=[('featureextractortext',\n",
       "                                                                  FeatureExtractorText(columns='description')),\n",
       "                                                                 ('tfidfvectorizer',\n",
       "                                                                  TfidfVectorizer(lowercase=[True],\n",
       "                                                                                  stop_words=['English'],\n",
       "                                                                                  strip_accents='unicode',\n",
       "                                                                                  token_pattern='\\\\w+')),\n",
       "                                                                 ('standardscaler',\n",
       "                                                                  StandardScaler())])),\n",
       "                                                ('pipeline-2',\n",
       "                                                 Pipeline(step...\n",
       "                                                                  FeatureExtractorNumber(columns='days_since_award')),\n",
       "                                                                 ('standardscaler',\n",
       "                                                                  StandardScaler())])),\n",
       "                                                ('pipeline-5',\n",
       "                                                 Pipeline(steps=[('featureextractorohe',\n",
       "                                                                  FeatureExtractorOHE(columns='funding_org_identifier_revised')),\n",
       "                                                                 ('onehotencoder',\n",
       "                                                                  OneHotEncoder(drop='first')),\n",
       "                                                                 ('standardscaler',\n",
       "                                                                  StandardScaler())]))])),\n",
       "                ('clf',\n",
       "                 <keras.wrappers.scikit_learn.KerasRegressor object at 0x7fa22cc45fa0>)])"
      ]
     },
     "execution_count": 49,
     "metadata": {},
     "output_type": "execute_result"
    },
    {
     "name": "stdout",
     "output_type": "stream",
     "text": [
      "Fitting 5 folds for each of 1 candidates, totalling 5 fits\n"
     ]
    },
    {
     "ename": "TypeError",
     "evalue": "baseline_model() missing 1 required positional argument: 'inputs'",
     "output_type": "error",
     "traceback": [
      "\u001b[0;31m---------------------------------------------------------------------------\u001b[0m",
      "\u001b[0;31mTypeError\u001b[0m                                 Traceback (most recent call last)",
      "\u001b[0;32m<ipython-input-49-91b13e2ac4d3>\u001b[0m in \u001b[0;36m<module>\u001b[0;34m\u001b[0m\n\u001b[1;32m      4\u001b[0m \u001b[0;32mtry\u001b[0m\u001b[0;34m:\u001b[0m\u001b[0;34m\u001b[0m\u001b[0;34m\u001b[0m\u001b[0m\n\u001b[1;32m      5\u001b[0m     \u001b[0;32mif\u001b[0m \u001b[0m__name__\u001b[0m \u001b[0;34m==\u001b[0m \u001b[0;34m'__main__'\u001b[0m\u001b[0;34m:\u001b[0m\u001b[0;34m\u001b[0m\u001b[0;34m\u001b[0m\u001b[0m\n\u001b[0;32m----> 6\u001b[0;31m         \u001b[0msearchcv\u001b[0m\u001b[0;34m.\u001b[0m\u001b[0mfit\u001b[0m\u001b[0;34m(\u001b[0m\u001b[0mX_train\u001b[0m\u001b[0;34m,\u001b[0m \u001b[0my_train\u001b[0m\u001b[0;34m)\u001b[0m\u001b[0;34m\u001b[0m\u001b[0;34m\u001b[0m\u001b[0m\n\u001b[0m\u001b[1;32m      7\u001b[0m \u001b[0;32mexcept\u001b[0m \u001b[0mException\u001b[0m \u001b[0;32mas\u001b[0m \u001b[0me\u001b[0m\u001b[0;34m:\u001b[0m\u001b[0;34m\u001b[0m\u001b[0;34m\u001b[0m\u001b[0m\n\u001b[1;32m      8\u001b[0m     \u001b[0;32mraise\u001b[0m\u001b[0;34m\u001b[0m\u001b[0;34m\u001b[0m\u001b[0m\n",
      "\u001b[0;32m~/opt/anaconda3/envs/grantnav_10k_predictor/lib/python3.9/site-packages/sklearn/utils/validation.py\u001b[0m in \u001b[0;36minner_f\u001b[0;34m(*args, **kwargs)\u001b[0m\n\u001b[1;32m     61\u001b[0m             \u001b[0mextra_args\u001b[0m \u001b[0;34m=\u001b[0m \u001b[0mlen\u001b[0m\u001b[0;34m(\u001b[0m\u001b[0margs\u001b[0m\u001b[0;34m)\u001b[0m \u001b[0;34m-\u001b[0m \u001b[0mlen\u001b[0m\u001b[0;34m(\u001b[0m\u001b[0mall_args\u001b[0m\u001b[0;34m)\u001b[0m\u001b[0;34m\u001b[0m\u001b[0;34m\u001b[0m\u001b[0m\n\u001b[1;32m     62\u001b[0m             \u001b[0;32mif\u001b[0m \u001b[0mextra_args\u001b[0m \u001b[0;34m<=\u001b[0m \u001b[0;36m0\u001b[0m\u001b[0;34m:\u001b[0m\u001b[0;34m\u001b[0m\u001b[0;34m\u001b[0m\u001b[0m\n\u001b[0;32m---> 63\u001b[0;31m                 \u001b[0;32mreturn\u001b[0m \u001b[0mf\u001b[0m\u001b[0;34m(\u001b[0m\u001b[0;34m*\u001b[0m\u001b[0margs\u001b[0m\u001b[0;34m,\u001b[0m \u001b[0;34m**\u001b[0m\u001b[0mkwargs\u001b[0m\u001b[0;34m)\u001b[0m\u001b[0;34m\u001b[0m\u001b[0;34m\u001b[0m\u001b[0m\n\u001b[0m\u001b[1;32m     64\u001b[0m \u001b[0;34m\u001b[0m\u001b[0m\n\u001b[1;32m     65\u001b[0m             \u001b[0;31m# extra_args > 0\u001b[0m\u001b[0;34m\u001b[0m\u001b[0;34m\u001b[0m\u001b[0;34m\u001b[0m\u001b[0m\n",
      "\u001b[0;32m~/opt/anaconda3/envs/grantnav_10k_predictor/lib/python3.9/site-packages/sklearn/model_selection/_search.py\u001b[0m in \u001b[0;36mfit\u001b[0;34m(self, X, y, groups, **fit_params)\u001b[0m\n\u001b[1;32m    878\u001b[0m             \u001b[0mrefit_start_time\u001b[0m \u001b[0;34m=\u001b[0m \u001b[0mtime\u001b[0m\u001b[0;34m.\u001b[0m\u001b[0mtime\u001b[0m\u001b[0;34m(\u001b[0m\u001b[0;34m)\u001b[0m\u001b[0;34m\u001b[0m\u001b[0;34m\u001b[0m\u001b[0m\n\u001b[1;32m    879\u001b[0m             \u001b[0;32mif\u001b[0m \u001b[0my\u001b[0m \u001b[0;32mis\u001b[0m \u001b[0;32mnot\u001b[0m \u001b[0;32mNone\u001b[0m\u001b[0;34m:\u001b[0m\u001b[0;34m\u001b[0m\u001b[0;34m\u001b[0m\u001b[0m\n\u001b[0;32m--> 880\u001b[0;31m                 \u001b[0mself\u001b[0m\u001b[0;34m.\u001b[0m\u001b[0mbest_estimator_\u001b[0m\u001b[0;34m.\u001b[0m\u001b[0mfit\u001b[0m\u001b[0;34m(\u001b[0m\u001b[0mX\u001b[0m\u001b[0;34m,\u001b[0m \u001b[0my\u001b[0m\u001b[0;34m,\u001b[0m \u001b[0;34m**\u001b[0m\u001b[0mfit_params\u001b[0m\u001b[0;34m)\u001b[0m\u001b[0;34m\u001b[0m\u001b[0;34m\u001b[0m\u001b[0m\n\u001b[0m\u001b[1;32m    881\u001b[0m             \u001b[0;32melse\u001b[0m\u001b[0;34m:\u001b[0m\u001b[0;34m\u001b[0m\u001b[0;34m\u001b[0m\u001b[0m\n\u001b[1;32m    882\u001b[0m                 \u001b[0mself\u001b[0m\u001b[0;34m.\u001b[0m\u001b[0mbest_estimator_\u001b[0m\u001b[0;34m.\u001b[0m\u001b[0mfit\u001b[0m\u001b[0;34m(\u001b[0m\u001b[0mX\u001b[0m\u001b[0;34m,\u001b[0m \u001b[0;34m**\u001b[0m\u001b[0mfit_params\u001b[0m\u001b[0;34m)\u001b[0m\u001b[0;34m\u001b[0m\u001b[0;34m\u001b[0m\u001b[0m\n",
      "\u001b[0;32m~/opt/anaconda3/envs/grantnav_10k_predictor/lib/python3.9/site-packages/sklearn/pipeline.py\u001b[0m in \u001b[0;36mfit\u001b[0;34m(self, X, y, **fit_params)\u001b[0m\n\u001b[1;32m    344\u001b[0m             \u001b[0;32mif\u001b[0m \u001b[0mself\u001b[0m\u001b[0;34m.\u001b[0m\u001b[0m_final_estimator\u001b[0m \u001b[0;34m!=\u001b[0m \u001b[0;34m'passthrough'\u001b[0m\u001b[0;34m:\u001b[0m\u001b[0;34m\u001b[0m\u001b[0;34m\u001b[0m\u001b[0m\n\u001b[1;32m    345\u001b[0m                 \u001b[0mfit_params_last_step\u001b[0m \u001b[0;34m=\u001b[0m \u001b[0mfit_params_steps\u001b[0m\u001b[0;34m[\u001b[0m\u001b[0mself\u001b[0m\u001b[0;34m.\u001b[0m\u001b[0msteps\u001b[0m\u001b[0;34m[\u001b[0m\u001b[0;34m-\u001b[0m\u001b[0;36m1\u001b[0m\u001b[0;34m]\u001b[0m\u001b[0;34m[\u001b[0m\u001b[0;36m0\u001b[0m\u001b[0;34m]\u001b[0m\u001b[0;34m]\u001b[0m\u001b[0;34m\u001b[0m\u001b[0;34m\u001b[0m\u001b[0m\n\u001b[0;32m--> 346\u001b[0;31m                 \u001b[0mself\u001b[0m\u001b[0;34m.\u001b[0m\u001b[0m_final_estimator\u001b[0m\u001b[0;34m.\u001b[0m\u001b[0mfit\u001b[0m\u001b[0;34m(\u001b[0m\u001b[0mXt\u001b[0m\u001b[0;34m,\u001b[0m \u001b[0my\u001b[0m\u001b[0;34m,\u001b[0m \u001b[0;34m**\u001b[0m\u001b[0mfit_params_last_step\u001b[0m\u001b[0;34m)\u001b[0m\u001b[0;34m\u001b[0m\u001b[0;34m\u001b[0m\u001b[0m\n\u001b[0m\u001b[1;32m    347\u001b[0m \u001b[0;34m\u001b[0m\u001b[0m\n\u001b[1;32m    348\u001b[0m         \u001b[0;32mreturn\u001b[0m \u001b[0mself\u001b[0m\u001b[0;34m\u001b[0m\u001b[0;34m\u001b[0m\u001b[0m\n",
      "\u001b[0;32m~/opt/anaconda3/envs/grantnav_10k_predictor/lib/python3.9/site-packages/keras/wrappers/scikit_learn.py\u001b[0m in \u001b[0;36mfit\u001b[0;34m(self, x, y, **kwargs)\u001b[0m\n\u001b[1;32m    152\u001b[0m           **self.filter_sk_params(self.build_fn.__call__))\n\u001b[1;32m    153\u001b[0m     \u001b[0;32melse\u001b[0m\u001b[0;34m:\u001b[0m\u001b[0;34m\u001b[0m\u001b[0;34m\u001b[0m\u001b[0m\n\u001b[0;32m--> 154\u001b[0;31m       \u001b[0mself\u001b[0m\u001b[0;34m.\u001b[0m\u001b[0mmodel\u001b[0m \u001b[0;34m=\u001b[0m \u001b[0mself\u001b[0m\u001b[0;34m.\u001b[0m\u001b[0mbuild_fn\u001b[0m\u001b[0;34m(\u001b[0m\u001b[0;34m**\u001b[0m\u001b[0mself\u001b[0m\u001b[0;34m.\u001b[0m\u001b[0mfilter_sk_params\u001b[0m\u001b[0;34m(\u001b[0m\u001b[0mself\u001b[0m\u001b[0;34m.\u001b[0m\u001b[0mbuild_fn\u001b[0m\u001b[0;34m)\u001b[0m\u001b[0;34m)\u001b[0m\u001b[0;34m\u001b[0m\u001b[0;34m\u001b[0m\u001b[0m\n\u001b[0m\u001b[1;32m    155\u001b[0m \u001b[0;34m\u001b[0m\u001b[0m\n\u001b[1;32m    156\u001b[0m     if (losses.is_categorical_crossentropy(self.model.loss) and\n",
      "\u001b[0;31mTypeError\u001b[0m: baseline_model() missing 1 required positional argument: 'inputs'"
     ]
    }
   ],
   "source": [
    "# set model parameters and fit\n",
    "pipe.set_params(**fixed_params)\n",
    "searchcv = GridSearchCV(pipe, param_grid, **job_params)\n",
    "try:\n",
    "    if __name__ == '__main__':\n",
    "        searchcv.fit(X_train, y_train)\n",
    "except Exception as e:\n",
    "    raise\n",
    "    print(e)"
   ]
  },
  {
   "cell_type": "code",
   "execution_count": null,
   "metadata": {
    "execution": {
     "iopub.status.busy": "2021-06-08T16:08:51.673088Z",
     "iopub.status.idle": "2021-06-08T16:08:51.673614Z"
    }
   },
   "outputs": [],
   "source": [
    "predicted = searchcv.predict(X_test)\n",
    "observed = y_test.values"
   ]
  },
  {
   "cell_type": "code",
   "execution_count": 62,
   "metadata": {
    "execution": {
     "iopub.execute_input": "2021-06-08T15:03:52.210128Z",
     "iopub.status.busy": "2021-06-08T15:03:52.209806Z",
     "iopub.status.idle": "2021-06-08T15:03:52.995154Z",
     "shell.execute_reply": "2021-06-08T15:03:52.994632Z",
     "shell.execute_reply.started": "2021-06-08T15:03:52.210103Z"
    }
   },
   "outputs": [
    {
     "name": "stdout",
     "output_type": "stream",
     "text": [
      "Baseline: 5592.059470117068\n"
     ]
    }
   ],
   "source": [
    "preds_v_obs = pd.DataFrame([pd.Series(predicted), pd.Series(observed)]).T\n",
    "preds_v_obs.columns=['predicted', 'observed']\n",
    "preds_v_obs['residuals'] = preds_v_obs['observed'] - preds_v_obs['predicted']\n",
    "baseline = preds_v_obs['observed'].mean()\n",
    "preds_v_obs['baseline_residuals'] = preds_v_obs['observed'] - baseline\n",
    "print(f\"Baseline: {baseline}\")"
   ]
  }
 ],
 "metadata": {
  "kernelspec": {
   "display_name": "Grantnav 10k Predictor",
   "language": "python",
   "name": "grantnav_10k_predictor"
  },
  "language_info": {
   "codemirror_mode": {
    "name": "ipython",
    "version": 3
   },
   "file_extension": ".py",
   "mimetype": "text/x-python",
   "name": "python",
   "nbconvert_exporter": "python",
   "pygments_lexer": "ipython3",
   "version": "3.9.5"
  }
 },
 "nbformat": 4,
 "nbformat_minor": 4
}
