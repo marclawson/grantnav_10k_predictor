{
 "cells": [
  {
   "cell_type": "markdown",
   "metadata": {},
   "source": [
    "# Create feature unions based on previous work (EDA, feature selection, time series)"
   ]
  },
  {
   "cell_type": "markdown",
   "metadata": {},
   "source": [
    "## 0.0 Libraries"
   ]
  },
  {
   "cell_type": "code",
   "execution_count": 3,
   "metadata": {
    "execution": {
     "iopub.execute_input": "2021-06-08T13:47:32.689656Z",
     "iopub.status.busy": "2021-06-08T13:47:32.689416Z",
     "iopub.status.idle": "2021-06-08T13:47:33.629536Z",
     "shell.execute_reply": "2021-06-08T13:47:33.628773Z",
     "shell.execute_reply.started": "2021-06-08T13:47:32.689636Z"
    }
   },
   "outputs": [
    {
     "name": "stdout",
     "output_type": "stream",
     "text": [
      "The autoreload extension is already loaded. To reload it, use:\n",
      "  %reload_ext autoreload\n"
     ]
    }
   ],
   "source": [
    "%load_ext autoreload\n",
    "%autoreload 2\n",
    "\n",
    "#system\n",
    "import os\n",
    "import sys\n",
    "from os.path import join as pj\n",
    "module_path = os.path.abspath(pj('..','..'))\n",
    "if module_path not in sys.path:\n",
    "    sys.path.append(module_path)\n",
    "    \n",
    "# utils\n",
    "from src.d00_utils import print_helper_functions as phf\n",
    "\n",
    "# ipython\n",
    "import warnings\n",
    "warnings.simplefilter('ignore')\n",
    "\n",
    "# executing code\n",
    "import click\n",
    "import logging\n",
    "\n",
    "# type annotations\n",
    "from typing import List, Set, Dict, Tuple, Optional\n",
    "from collections.abc import Iterable\n",
    "\n",
    "# configuring\n",
    "from pathlib import Path\n",
    "from dotenv import find_dotenv, load_dotenv\n",
    "import configparser\n",
    "\n",
    "# feature extractor\n",
    "from sklearn.base import BaseEstimator, TransformerMixin\n",
    "from sklearn.impute import SimpleImputer\n",
    "from sklearn.preprocessing import StandardScaler\n",
    "from sklearn.preprocessing import OneHotEncoder\n",
    "from sklearn.pipeline import Pipeline, make_pipeline, make_union, FeatureUnion\n",
    "from sklearn.feature_extraction.text import CountVectorizer, TfidfVectorizer\n",
    "\n",
    "# data\n",
    "import numpy as np\n",
    "import re\n",
    "\n",
    "# stats\n",
    "import statsmodels.api as sm\n",
    "\n",
    "# viz\n",
    "from matplotlib import pyplot as plt\n",
    "import matplotlib.dates as mdates\n",
    "import seaborn as sns\n",
    "sns.set(font_scale=1.5)\n",
    "plt.style.use('bmh')\n",
    "%config InlineBackend.figure_format = 'retina'\n",
    "%matplotlib inline\n",
    "\n",
    "# file handling\n",
    "import tempfile\n",
    "import joblib\n",
    "import botocore\n",
    "import boto3\n",
    "from os.path import join as pj\n",
    "import pickle as pkl\n",
    "sys.path.append('../..')\n",
    "from src.d01_data.build_features import FeatureExtractorText, FeatureExtractorOHE, FeatureExtractorNumber, CustomImputer"
   ]
  },
  {
   "cell_type": "markdown",
   "metadata": {},
   "source": [
    "## 1.0 Feature Extractor"
   ]
  },
  {
   "cell_type": "markdown",
   "metadata": {},
   "source": [
    "### 1.1 Load data"
   ]
  },
  {
   "cell_type": "code",
   "execution_count": 4,
   "metadata": {
    "execution": {
     "iopub.execute_input": "2021-06-08T13:47:33.631189Z",
     "iopub.status.busy": "2021-06-08T13:47:33.630951Z",
     "iopub.status.idle": "2021-06-08T13:47:33.676970Z",
     "shell.execute_reply": "2021-06-08T13:47:33.676410Z",
     "shell.execute_reply.started": "2021-06-08T13:47:33.631156Z"
    }
   },
   "outputs": [
    {
     "name": "stdout",
     "output_type": "stream",
     "text": [
      "/Users/marclawson/repositories/grantnav_10k_predictor\n"
     ]
    }
   ],
   "source": [
    "# not used in this stub but often useful for finding various files\n",
    "project_dir = Path().resolve().parents[1]\n",
    "print(project_dir)\n",
    "\n",
    "# find .env automagically by walking up directories until it's found, then\n",
    "# load up the .env entries as environment variables\n",
    "_ = load_dotenv(find_dotenv())\n",
    "\n",
    "raw_dir = pj(project_dir, 'data', os.environ.get('RAW_DIR'))\n",
    "interim_dir = pj(project_dir, 'data', os.environ.get('INTERIM_DIR'))\n",
    "processed_dir = pj(project_dir, 'data', os.environ.get('PROCESSED_DIR'))"
   ]
  },
  {
   "cell_type": "code",
   "execution_count": 5,
   "metadata": {
    "execution": {
     "iopub.execute_input": "2021-06-08T13:47:33.678405Z",
     "iopub.status.busy": "2021-06-08T13:47:33.677927Z",
     "iopub.status.idle": "2021-06-08T13:47:35.135929Z",
     "shell.execute_reply": "2021-06-08T13:47:35.135356Z",
     "shell.execute_reply.started": "2021-06-08T13:47:33.678345Z"
    }
   },
   "outputs": [],
   "source": [
    "data = pd.read_csv(pj(interim_dir,'grantnav_data_post2015.csv'), index_col=0)"
   ]
  },
  {
   "cell_type": "markdown",
   "metadata": {},
   "source": [
    "### 1.2 Create feature extractors"
   ]
  },
  {
   "cell_type": "markdown",
   "metadata": {},
   "source": [
    "#### 1.2.1 Feature Extractors"
   ]
  },
  {
   "cell_type": "markdown",
   "metadata": {},
   "source": [
    "#### 1.2.2 Feature unions"
   ]
  },
  {
   "cell_type": "markdown",
   "metadata": {},
   "source": [
    "Some funders are not being included in the training set so will need to create an 'other_funders' column to cater for this."
   ]
  },
  {
   "cell_type": "code",
   "execution_count": 32,
   "metadata": {
    "execution": {
     "iopub.execute_input": "2021-06-08T13:51:02.022944Z",
     "iopub.status.busy": "2021-06-08T13:51:02.022628Z",
     "iopub.status.idle": "2021-06-08T13:51:02.121733Z",
     "shell.execute_reply": "2021-06-08T13:51:02.121198Z",
     "shell.execute_reply.started": "2021-06-08T13:51:02.022916Z"
    }
   },
   "outputs": [],
   "source": [
    "funder_counts = data['funding_org_identifier'].value_counts()\n",
    "other_funders = {f: 'GB-OTHER' for f in list(funder_counts[funder_counts<200].index)}\n",
    "all_funders = dict(zip(data['funding_org_identifier'], data['funding_org_identifier']))\n",
    "new_funders_dict = dict(all_funders, **other_funders)"
   ]
  },
  {
   "cell_type": "code",
   "execution_count": 33,
   "metadata": {
    "execution": {
     "iopub.execute_input": "2021-06-08T13:51:02.705630Z",
     "iopub.status.busy": "2021-06-08T13:51:02.705367Z",
     "iopub.status.idle": "2021-06-08T13:51:02.814435Z",
     "shell.execute_reply": "2021-06-08T13:51:02.813587Z",
     "shell.execute_reply.started": "2021-06-08T13:51:02.705608Z"
    }
   },
   "outputs": [],
   "source": [
    "data['funding_org_identifier_revised'] = data['funding_org_identifier'].map(new_funders_dict)\n",
    "data['funding_org_name_revised'] = np.where(data['funding_org_identifier_revised']=='GB-OTHER', 'Other Funder', data['funding_org_name'])"
   ]
  },
  {
   "cell_type": "code",
   "execution_count": 34,
   "metadata": {
    "execution": {
     "iopub.execute_input": "2021-06-08T13:51:03.146691Z",
     "iopub.status.busy": "2021-06-08T13:51:03.146410Z",
     "iopub.status.idle": "2021-06-08T13:51:06.577414Z",
     "shell.execute_reply": "2021-06-08T13:51:06.576781Z",
     "shell.execute_reply.started": "2021-06-08T13:51:03.146665Z"
    }
   },
   "outputs": [],
   "source": [
    "# save data\n",
    "data.to_csv(pj(interim_dir,'grantnav_data_post2015.csv'))"
   ]
  },
  {
   "cell_type": "code",
   "execution_count": 9,
   "metadata": {
    "execution": {
     "iopub.execute_input": "2021-06-08T13:47:43.751715Z",
     "iopub.status.busy": "2021-06-08T13:47:43.751264Z",
     "iopub.status.idle": "2021-06-08T13:47:43.816532Z",
     "shell.execute_reply": "2021-06-08T13:47:43.815850Z",
     "shell.execute_reply.started": "2021-06-08T13:47:43.751676Z"
    }
   },
   "outputs": [],
   "source": [
    "description_pipe = make_pipeline(\n",
    "    FeatureExtractorText('description'),\n",
    "    TfidfVectorizer(),\n",
    "    StandardScaler()\n",
    ")\n",
    "\n",
    "title_pipe = make_pipeline(\n",
    "    FeatureExtractorText('title'),\n",
    "    TfidfVectorizer(),\n",
    "    StandardScaler()\n",
    ")\n",
    "\n",
    "duration_pipe = make_pipeline(\n",
    "    FeatureExtractorNumber('planned_dates_duration_months'),\n",
    "    StandardScaler()\n",
    ")\n",
    "\n",
    "award_date_pipe = make_pipeline(\n",
    "    FeatureExtractorNumber('days_since_award'),\n",
    "    StandardScaler()\n",
    ")\n",
    "\n",
    "funder_pipe = make_pipeline(\n",
    "    FeatureExtractorOHE('funding_org_identifier_revised'),\n",
    "    OneHotEncoder(drop='first'),\n",
    "    StandardScaler()\n",
    ")"
   ]
  },
  {
   "cell_type": "code",
   "execution_count": 10,
   "metadata": {
    "execution": {
     "iopub.execute_input": "2021-06-08T13:47:44.375145Z",
     "iopub.status.busy": "2021-06-08T13:47:44.374867Z",
     "iopub.status.idle": "2021-06-08T13:47:44.422775Z",
     "shell.execute_reply": "2021-06-08T13:47:44.421792Z",
     "shell.execute_reply.started": "2021-06-08T13:47:44.375121Z"
    }
   },
   "outputs": [],
   "source": [
    "feature_union = make_union(description_pipe, title_pipe, duration_pipe, award_date_pipe, funder_pipe)"
   ]
  },
  {
   "cell_type": "markdown",
   "metadata": {},
   "source": [
    "### 1.3 Save feature union "
   ]
  },
  {
   "cell_type": "code",
   "execution_count": 11,
   "metadata": {
    "execution": {
     "iopub.execute_input": "2021-06-08T13:47:45.136004Z",
     "iopub.status.busy": "2021-06-08T13:47:45.135683Z",
     "iopub.status.idle": "2021-06-08T13:47:45.184768Z",
     "shell.execute_reply": "2021-06-08T13:47:45.184164Z",
     "shell.execute_reply.started": "2021-06-08T13:47:45.135978Z"
    }
   },
   "outputs": [],
   "source": [
    "filename = 'feature_union.jlib'\n",
    "_file = open(pj(processed_dir, filename), 'wb')\n",
    "feature_union = joblib.dump(feature_union, _file, compress=1)"
   ]
  },
  {
   "cell_type": "code",
   "execution_count": 12,
   "metadata": {
    "execution": {
     "iopub.execute_input": "2021-06-08T13:47:45.416140Z",
     "iopub.status.busy": "2021-06-08T13:47:45.415829Z",
     "iopub.status.idle": "2021-06-08T13:47:45.463706Z",
     "shell.execute_reply": "2021-06-08T13:47:45.463096Z",
     "shell.execute_reply.started": "2021-06-08T13:47:45.416114Z"
    }
   },
   "outputs": [],
   "source": [
    "# load features\n",
    "filename = 'feature_union.jlib'\n",
    "_file = open(pj(processed_dir, filename), 'rb')\n",
    "feature_union = joblib.load(_file)"
   ]
  },
  {
   "cell_type": "code",
   "execution_count": null,
   "metadata": {},
   "outputs": [],
   "source": []
  }
 ],
 "metadata": {
  "kernelspec": {
   "display_name": "Grantnav 10k Predictor",
   "language": "python",
   "name": "grantnav_10k_predictor"
  },
  "language_info": {
   "codemirror_mode": {
    "name": "ipython",
    "version": 3
   },
   "file_extension": ".py",
   "mimetype": "text/x-python",
   "name": "python",
   "nbconvert_exporter": "python",
   "pygments_lexer": "ipython3",
   "version": "3.9.5"
  }
 },
 "nbformat": 4,
 "nbformat_minor": 4
}
