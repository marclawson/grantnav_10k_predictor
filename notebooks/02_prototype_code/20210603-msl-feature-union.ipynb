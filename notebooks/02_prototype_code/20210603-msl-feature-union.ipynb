{
 "cells": [
  {
   "cell_type": "markdown",
   "metadata": {},
   "source": [
    "# Create feature unions based on previous work (EDA, feature selection, time series)"
   ]
  },
  {
   "cell_type": "markdown",
   "metadata": {},
   "source": [
    "## 0.0 Libraries"
   ]
  },
  {
   "cell_type": "code",
   "execution_count": 245,
   "metadata": {
    "execution": {
     "iopub.execute_input": "2021-06-03T11:28:38.441447Z",
     "iopub.status.busy": "2021-06-03T11:28:38.441221Z",
     "iopub.status.idle": "2021-06-03T11:28:38.944355Z",
     "shell.execute_reply": "2021-06-03T11:28:38.943371Z",
     "shell.execute_reply.started": "2021-06-03T11:28:38.441422Z"
    }
   },
   "outputs": [
    {
     "name": "stdout",
     "output_type": "stream",
     "text": [
      "The autoreload extension is already loaded. To reload it, use:\n",
      "  %reload_ext autoreload\n"
     ]
    }
   ],
   "source": [
    "%load_ext autoreload\n",
    "%autoreload 2\n",
    "\n",
    "#system\n",
    "import os\n",
    "import sys\n",
    "from os.path import join as pj\n",
    "module_path = os.path.abspath(pj('..','..'))\n",
    "if module_path not in sys.path:\n",
    "    sys.path.append(module_path)\n",
    "    \n",
    "# utils\n",
    "from src.d00_utils import print_helper_functions as phf\n",
    "\n",
    "# ipython\n",
    "import warnings\n",
    "warnings.simplefilter('ignore')\n",
    "\n",
    "# executing code\n",
    "import click\n",
    "import logging\n",
    "\n",
    "# type annotations\n",
    "from typing import List, Set, Dict, Tuple, Optional\n",
    "from collections.abc import Iterable\n",
    "\n",
    "# configuring\n",
    "from pathlib import Path\n",
    "from dotenv import find_dotenv, load_dotenv\n",
    "import configparser\n",
    "\n",
    "# feature extractor\n",
    "from sklearn.base import BaseEstimator, TransformerMixin\n",
    "from sklearn.impute import SimpleImputer\n",
    "from sklearn.preprocessing import StandardScaler\n",
    "from sklearn.preprocessing import OneHotEncoder\n",
    "from sklearn.pipeline import Pipeline, make_pipeline, make_union, FeatureUnion\n",
    "from sklearn.feature_extraction.text import CountVectorizer\n",
    "\n",
    "# data\n",
    "import numpy as np\n",
    "import re\n",
    "\n",
    "# stats\n",
    "import statsmodels.api as sm\n",
    "\n",
    "# viz\n",
    "from matplotlib import pyplot as plt\n",
    "import matplotlib.dates as mdates\n",
    "import seaborn as sns\n",
    "sns.set(font_scale=1.5)\n",
    "plt.style.use('bmh')\n",
    "%config InlineBackend.figure_format = 'retina'\n",
    "%matplotlib inline\n",
    "\n",
    "# file handling\n",
    "import tempfile\n",
    "import joblib\n",
    "import botocore\n",
    "import boto3\n",
    "from os.path import join as pj\n",
    "import pickle as pkl"
   ]
  },
  {
   "cell_type": "markdown",
   "metadata": {},
   "source": [
    "## 1.0 Feature Extractor"
   ]
  },
  {
   "cell_type": "markdown",
   "metadata": {},
   "source": [
    "### 1.1 Load data"
   ]
  },
  {
   "cell_type": "code",
   "execution_count": 3,
   "metadata": {
    "execution": {
     "iopub.execute_input": "2021-06-03T07:35:31.344337Z",
     "iopub.status.busy": "2021-06-03T07:35:31.344123Z",
     "iopub.status.idle": "2021-06-03T07:35:31.384314Z",
     "shell.execute_reply": "2021-06-03T07:35:31.383356Z",
     "shell.execute_reply.started": "2021-06-03T07:35:31.344316Z"
    }
   },
   "outputs": [
    {
     "name": "stdout",
     "output_type": "stream",
     "text": [
      "/Users/marclawson/repositories/grantnav_10k_predictor\n"
     ]
    }
   ],
   "source": [
    "# not used in this stub but often useful for finding various files\n",
    "project_dir = Path().resolve().parents[1]\n",
    "print(project_dir)\n",
    "\n",
    "# find .env automagically by walking up directories until it's found, then\n",
    "# load up the .env entries as environment variables\n",
    "_ = load_dotenv(find_dotenv())\n",
    "\n",
    "raw_dir = pj(project_dir, 'data', os.environ.get('RAW_DIR'))\n",
    "interim_dir = pj(project_dir, 'data', os.environ.get('INTERIM_DIR'))\n",
    "processed_dir = pj(project_dir, 'data', os.environ.get('PROCESSED_DIR'))"
   ]
  },
  {
   "cell_type": "code",
   "execution_count": 306,
   "metadata": {
    "execution": {
     "iopub.execute_input": "2021-06-03T13:46:03.040878Z",
     "iopub.status.busy": "2021-06-03T13:46:03.040647Z",
     "iopub.status.idle": "2021-06-03T13:46:04.742041Z",
     "shell.execute_reply": "2021-06-03T13:46:04.741208Z",
     "shell.execute_reply.started": "2021-06-03T13:46:03.040854Z"
    }
   },
   "outputs": [],
   "source": [
    "data = pd.read_csv(pj(interim_dir,'grantnav_data_post2015.csv'), index_col=0)"
   ]
  },
  {
   "cell_type": "markdown",
   "metadata": {},
   "source": [
    "### 1.3 Create feature extractors"
   ]
  },
  {
   "cell_type": "code",
   "execution_count": null,
   "metadata": {},
   "outputs": [],
   "source": [
    "class FeatureExtractorText(BaseEstimator, TransformerMixin):\n",
    "    def __init__(self, columns):\n",
    "        self.columns = columns\n",
    "\n",
    "    def fit(self, X, *args):\n",
    "        return self\n",
    "\n",
    "    def transform(self, X, *args):\n",
    "        X = X[self.columns].values\n",
    "        return X\n",
    "\n",
    "    \n",
    "class FeatureExtractorOHE(BaseEstimator, TransformerMixin):\n",
    "    def __init__(self, columns):\n",
    "        self.columns = columns\n",
    "\n",
    "    def fit(self, X, *args):\n",
    "        return self\n",
    "\n",
    "    def transform(self, X, *args):\n",
    "        X = X[self.columns].values.reshape(-1, 1)\n",
    "        return X\n",
    "              \n",
    "              \n",
    "class FeatureExtractorNumber(BaseEstimator, TransformerMixin):\n",
    "    def __init__(self, columns):\n",
    "        self.columns = columns\n",
    "\n",
    "    def fit(self, X, *args):\n",
    "        return self\n",
    "\n",
    "    def transform(self, X, *args):\n",
    "        X = X[self.columns].values.reshape(-1,1)\n",
    "        return X\n",
    "\n",
    "    \n",
    "class CustomImputer(BaseEstimator, TransformerMixin):\n",
    "    def fit(self, X, *args):\n",
    "        return self\n",
    "\n",
    "    def transform(self, X, *args):\n",
    "        X = SimpleImputer(missing_values=np.NaN,\n",
    "                          strategy='constant',\n",
    "                          fill_value=0).fit_transform(X)\n",
    "        return X"
   ]
  },
  {
   "cell_type": "code",
   "execution_count": null,
   "metadata": {},
   "outputs": [],
   "source": [
    "@click.command()\n",
    "@click.option('--use-s3', 'use_s3', default=True)\n",
    "def main(use_s3):\n",
    "    \"\"\" Builds features for modelling.\"\"\"\n",
    "\n",
    "    s3 = boto3.resource('s3')\n",
    "    bucket = s3.Bucket(os.environ.get('BUCKET'))\n",
    "    processed_dir = pj(project_dir, 'data', os.environ.get('PROCESSED_DIR'))\n",
    "\n",
    "    activities_pipe = make_pipeline(\n",
    "        FeatureExtractorText('activities'),\n",
    "        CountVectorizer(),\n",
    "        StandardScaler()\n",
    "    )\n",
    "\n",
    "    objects_pipe = make_pipeline(\n",
    "        FeatureExtractorText('objects'),\n",
    "        CountVectorizer(),\n",
    "        StandardScaler()\n",
    "    )\n",
    "\n",
    "    income_pipe = make_pipeline(\n",
    "        FeatureExtractorNumber('income_3y_mean'),\n",
    "        StandardScaler()\n",
    "    )\n",
    "\n",
    "    title_pipe = make_pipeline(\n",
    "        FeatureExtractorText('name'),\n",
    "        CountVectorizer(),\n",
    "        StandardScaler()\n",
    "    )\n",
    "\n",
    "    region_pipe = make_pipeline(\n",
    "        FeatureExtractorOHE('EER'),\n",
    "        OneHotEncoder(drop='first'),\n",
    "        StandardScaler()\n",
    "    )\n",
    "\n",
    "    ru_pipe = make_pipeline(\n",
    "        FeatureExtractorOHE('RU'),\n",
    "        OneHotEncoder(drop='first'),\n",
    "        StandardScaler()\n",
    "    )\n",
    "\n",
    "    funders_pipe = make_pipeline(\n",
    "        FeatureExtractorNumber('Funders'),\n",
    "        CustomImputer(),\n",
    "        StandardScaler()\n",
    "    )\n",
    "\n",
    "    trustees_pipe = make_pipeline(\n",
    "        FeatureExtractorNumber('Trustees'),\n",
    "        CustomImputer(),\n",
    "        StandardScaler()\n",
    "    )\n",
    "\n",
    "    selfclass_pipe = make_pipeline(\n",
    "        FeatureExtractorText('self_class'),\n",
    "        CountVectorizer(),\n",
    "        StandardScaler()\n",
    "    )\n",
    "\n",
    "    feature_union = make_union(activities_pipe, objects_pipe, income_pipe, title_pipe, region_pipe, \n",
    "                    ru_pipe, trustees_pipe, selfclass_pipe)"
   ]
  }
 ],
 "metadata": {
  "kernelspec": {
   "display_name": "Grantnav 10k Predictor",
   "language": "python",
   "name": "grantnav_10k_predictor"
  },
  "language_info": {
   "codemirror_mode": {
    "name": "ipython",
    "version": 3
   },
   "file_extension": ".py",
   "mimetype": "text/x-python",
   "name": "python",
   "nbconvert_exporter": "python",
   "pygments_lexer": "ipython3",
   "version": "3.9.5"
  }
 },
 "nbformat": 4,
 "nbformat_minor": 4
}
